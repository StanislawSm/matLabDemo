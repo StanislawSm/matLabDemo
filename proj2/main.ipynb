{
 "cells": [
  {
   "cell_type": "raw",
   "id": "62a26811-e5f8-4d5e-9a7c-a482feba60e5",
   "metadata": {},
   "source": [
    "Stanisław Smykowski 184787 metody numeryczne projekt 2"
   ]
  },
  {
   "cell_type": "raw",
   "id": "8b4488f3-4a51-4d92-869c-a588fb7aca0e",
   "metadata": {},
   "source": [
    "\n",
    "Zadanie A\n"
   ]
  },
  {
   "cell_type": "code",
   "execution_count": 1,
   "id": "e1abffc0-3b5e-4a0e-9957-75d5c06c0c06",
   "metadata": {},
   "outputs": [
    {
     "data": {
      "text/plain": [
       "[[12, -1, -1, 0, 0, 0, 0, 0, 0, 0],\n",
       " [-1, 12, -1, -1, 0, 0, 0, 0, 0, 0],\n",
       " [-1, -1, 12, -1, -1, 0, 0, 0, 0, 0],\n",
       " [0, -1, -1, 12, -1, -1, 0, 0, 0, 0],\n",
       " [0, 0, -1, -1, 12, -1, -1, 0, 0, 0],\n",
       " [0, 0, 0, -1, -1, 12, -1, -1, 0, 0],\n",
       " [0, 0, 0, 0, -1, -1, 12, -1, -1, 0],\n",
       " [0, 0, 0, 0, 0, -1, -1, 12, -1, -1],\n",
       " [0, 0, 0, 0, 0, 0, -1, -1, 12, -1],\n",
       " [0, 0, 0, 0, 0, 0, 0, -1, -1, 12]]"
      ]
     },
     "execution_count": 1,
     "metadata": {},
     "output_type": "execute_result"
    }
   ],
   "source": [
    "import copy\n",
    "import math\n",
    "from math import sin\n",
    "from timeit import default_timer as timer\n",
    "import matplotlib.pyplot as plt\n",
    "\n",
    "def createMatrix(a1, N):\n",
    "    a2 = -1\n",
    "    a3 = -1\n",
    "    matrix = []\n",
    "    for i in range(N):\n",
    "        rowList = []\n",
    "        for j in range(N):\n",
    "            if i == j:\n",
    "                rowList.append(a1)\n",
    "            elif i == j + 1 or i == j - 1:\n",
    "                rowList.append(a2)\n",
    "            elif i == j + 2 or i == j - 2:\n",
    "                rowList.append(a3)\n",
    "            else:\n",
    "                rowList.append(0)\n",
    "        matrix.append(rowList)\n",
    "    return matrix\n",
    "\n",
    "\n",
    "def createVector(N):\n",
    "    vector = [0] * N\n",
    "    for i in range(0, N):\n",
    "        row = sin(i * (4 + 1))\n",
    "        vector[i] = row\n",
    "    return vector\n",
    "\n",
    "createMatrix(12, 10)"
   ]
  },
  {
   "cell_type": "code",
   "execution_count": 2,
   "id": "acca2f16-a31e-46e4-ac24-2c1ae2b8ef70",
   "metadata": {},
   "outputs": [
    {
     "data": {
      "text/plain": [
       "[0.0,\n",
       " -0.9589242746631385,\n",
       " -0.5440211108893698,\n",
       " 0.6502878401571168,\n",
       " 0.9129452507276277,\n",
       " -0.13235175009777303,\n",
       " -0.9880316240928618,\n",
       " -0.428182669496151,\n",
       " 0.7451131604793488,\n",
       " 0.8509035245341184]"
      ]
     },
     "execution_count": 2,
     "metadata": {},
     "output_type": "execute_result"
    }
   ],
   "source": [
    "createVector(10)"
   ]
  },
  {
   "cell_type": "raw",
   "id": "f95854ff-c001-4143-b320-9fadf6192244",
   "metadata": {},
   "source": [
    "\n",
    "Zadanie B\n"
   ]
  },
  {
   "cell_type": "code",
   "execution_count": 3,
   "id": "301a9586-ca06-47db-b9d9-9d03bb56647d",
   "metadata": {},
   "outputs": [
    {
     "name": "stdout",
     "output_type": "stream",
     "text": [
      "Jacobi iterations:  12\n",
      "Jacobi time:  4.7342762\n",
      "Guss-Seidel iterations:  12\n",
      "Gauss-Seidel time:  4.176069999999999\n"
     ]
    }
   ],
   "source": [
    "def dotProduct(A, b):\n",
    "    n = len(A)\n",
    "    result = [0] * n\n",
    "    for i in range(n):\n",
    "        for j in range(n):\n",
    "            result[i] += b[j] * A[i][j]\n",
    "    return result\n",
    "\n",
    "def residuum(A, b, x):\n",
    "    n = len(A)\n",
    "    res = [0] * n\n",
    "    Ax = dotProduct(A, x)\n",
    "    for i in range(0, n):\n",
    "        res[i] = Ax[i] - b[i]\n",
    "    return res\n",
    "\n",
    "def norm(r):\n",
    "    result = 0\n",
    "    for i in range(0, len(r)):\n",
    "        result += r[i] * r[i]\n",
    "    return math.sqrt(result)\n",
    "\n",
    "def jacobiMethod(A, b, eps):\n",
    "    n = len(A)\n",
    "    rOld = [0] * n\n",
    "    rNew = [0] * n\n",
    "    nor = 1\n",
    "    k = 0\n",
    "    start = timer()\n",
    "    while nor > eps and k < 100:\n",
    "        k += 1\n",
    "        for i in range(0, n):\n",
    "            value = 0\n",
    "            for j in range(0, n):\n",
    "                if j != i:\n",
    "                    value += A[i][j] * rOld[j]\n",
    "            rNew[i] = (b[i] - value)/A[i][i]\n",
    "        rOld = rNew\n",
    "        nor = norm(residuum(A, b, rNew))\n",
    "    end = timer()\n",
    "    time = end - start\n",
    "    return rNew, k, time\n",
    "\n",
    "def gaussSeidelMethod(A, b, eps):\n",
    "    n = len(A)\n",
    "    r = [0] * n\n",
    "    nor = 1\n",
    "    k = 0\n",
    "    start = timer()\n",
    "    while nor > eps and k < 100:\n",
    "        k += 1\n",
    "        for i in range(0, n):\n",
    "            value = 0\n",
    "            for j in range(0, n):\n",
    "                if j != i:\n",
    "                    value += A[i][j] * r[j]\n",
    "            r[i] = (b[i] - value)/A[i][i]\n",
    "        nor = norm(residuum(A, b, r))\n",
    "    end = timer()\n",
    "    time = end - start\n",
    "    return r, k, time\n",
    "\n",
    "A = createMatrix(12, 987)\n",
    "b = createVector(987)\n",
    "jacSol, jacK, jacTime = jacobiMethod(A, b, 1e-9)\n",
    "gauSol, gauK, gauTime = gaussSeidelMethod(A, b, 1e-9)\n",
    "print(\"Jacobi iterations: \", jacK)\n",
    "print(\"Jacobi time: \", jacTime)\n",
    "print(\"Guss-Seidel iterations: \", gauK)\n",
    "print(\"Gauss-Seidel time: \", gauTime)"
   ]
  },
  {
   "cell_type": "raw",
   "id": "0737ca4b-b0b8-46c5-862e-492de4a19bf2",
   "metadata": {},
   "source": [
    "\n",
    "Zadanie C\n"
   ]
  },
  {
   "cell_type": "code",
   "execution_count": 4,
   "id": "19ca0b3b-e72a-4fc3-8221-e505fc5632b8",
   "metadata": {},
   "outputs": [
    {
     "name": "stdout",
     "output_type": "stream",
     "text": [
      "Jacobi iterations:  100\n",
      "Jacobi time:  31.9139785\n",
      "Guss-Seidel iterations:  100\n",
      "Gauss-Seidel time:  35.1267327\n"
     ]
    }
   ],
   "source": [
    "A = createMatrix(3, 987)\n",
    "b = createVector(987)\n",
    "\n",
    "jacSol, jacK, jacTime = jacobiMethod(A, b, 1e-9)\n",
    "gauSol, gauK, gauTime = gaussSeidelMethod(A, b, 1e-9)\n",
    "print(\"Jacobi iterations: \", jacK)\n",
    "print(\"Jacobi time: \", jacTime)\n",
    "print(\"Guss-Seidel iterations: \", gauK)\n",
    "print(\"Gauss-Seidel time: \", gauTime)"
   ]
  },
  {
   "cell_type": "raw",
   "id": "da690f3e-8166-4a9a-8bb8-7b8265763f9b",
   "metadata": {},
   "source": [
    "Metody wykonały po 100 iteracji i norma z residuum nie zbiegła się do wymaganej dokładnośći. Widać, że tak skonstruowana macież nie spełnia wymagań, aby mogła być rozwiązywana tymi metodami.\n"
   ]
  },
  {
   "cell_type": "markdown",
   "id": "bba9f5a5-06d3-4d54-96df-c303682b5e70",
   "metadata": {},
   "source": []
  },
  {
   "cell_type": "raw",
   "id": "883f9c58-cada-496a-8671-56128e986820",
   "metadata": {},
   "source": [
    "\n",
    "Zadanie D\n"
   ]
  },
  {
   "cell_type": "code",
   "execution_count": 5,
   "id": "4cdf337a-86e3-4c45-ba99-0e679f34ac16",
   "metadata": {},
   "outputs": [
    {
     "name": "stdout",
     "output_type": "stream",
     "text": [
      "lu time:  74.09924620000001\n",
      "lu norm from residuum:  3.452106146813692e-13\n"
     ]
    }
   ],
   "source": [
    "def createOnesMatrix(N):\n",
    "    result = []\n",
    "    for i in range(N):\n",
    "        row = []\n",
    "        for j in range(N):\n",
    "            if i == j:\n",
    "                row.append(1)\n",
    "            else:\n",
    "                row.append(0)\n",
    "        result.append(row)\n",
    "    return result\n",
    "\n",
    "def luDecomposition(A):\n",
    "    U = copy.deepcopy(A)\n",
    "    L = createOnesMatrix(len(A))\n",
    "    for k in range(0, len(A)):\n",
    "        for j in range(k + 1, len(A)):\n",
    "            L[j][k] = U[j][k] / U[k][k]\n",
    "            for i in range(k, len(A)):\n",
    "                U[j][i] = U[j][i] - L[j][k] * U[k][i]\n",
    "    return L, U\n",
    "\n",
    "def forwardSubstitution(L, b):\n",
    "    n = len(L)\n",
    "    x = [0] * n\n",
    "    for i in range(0, n):\n",
    "        value = b[i]\n",
    "        for j in range(0, i):\n",
    "            value -= L[i][j] * x[j]\n",
    "        x[i] = value / L[i][i]\n",
    "    return x\n",
    "\n",
    "def backwardSubstitution(U, y):\n",
    "    n = len(U)\n",
    "    x = [0] * n\n",
    "    for i in range(n - 1, -1, -1):\n",
    "        value = y[i]\n",
    "        for j in range(i, n):\n",
    "            value -= U[i][j] * x[j]\n",
    "        x[i] = value / U[i][i]\n",
    "    return x\n",
    "\n",
    "def luFactorization(A, b):\n",
    "    start = timer()\n",
    "    L, U = luDecomposition(A)\n",
    "    y = forwardSubstitution(L, b)\n",
    "    x = backwardSubstitution(U, y)\n",
    "    end = timer()\n",
    "    time = end - start\n",
    "    return x, time\n",
    "\n",
    "A = createMatrix(3, 987)\n",
    "b = createVector(987)\n",
    "luSol, luTime = luFactorization(A, b)\n",
    "print(\"lu time: \", luTime)\n",
    "print(\"lu norm from residuum: \", norm(residuum(A, b, luSol)))"
   ]
  },
  {
   "cell_type": "raw",
   "id": "584b4a76-290e-46c4-b65d-2c6ef67a3381",
   "metadata": {},
   "source": [
    "\n",
    "Zadanie E\n"
   ]
  },
  {
   "cell_type": "code",
   "execution_count": 6,
   "id": "1adf7873-bda5-45a9-9c3e-0418d50c738e",
   "metadata": {},
   "outputs": [
    {
     "data": {
      "image/png": "[encoded data removed]",
      "text/plain": [
       "<Figure size 432x288 with 1 Axes>"
      ]
     },
     "metadata": {
      "needs_background": "light"
     },
     "output_type": "display_data"
    }
   ],
   "source": [
    "sizes = [100, 500, 1000, 2000, 3000, 4000]\n",
    "timeLu = [0] * 6\n",
    "timeJac = [0] * 6\n",
    "timeGau = [0] * 6\n",
    "\n",
    "\n",
    "for i in range(0, len(sizes)):\n",
    "    N = sizes[i]\n",
    "    A = createMatrix(12, N)\n",
    "    b = createVector(N)\n",
    "    timeLu[i] = luFactorization(A, b)[1]\n",
    "    timeJac[i] = jacobiMethod(A, b, 1e-9)[2]\n",
    "    timeGau[i] = gaussSeidelMethod(A, b, 1e-9)[2]\n",
    "\n",
    "\n",
    "plt.plot(sizes, timeLu, 'c', label='lu Factorization')\n",
    "plt.plot(sizes, timeJac, 'y', label='Jacobi method')\n",
    "plt.plot(sizes, timeGau, 'r', label='Gauss-Seidel method')\n",
    "plt.xlabel(\"Size of input matrix and vector - N\")\n",
    "plt.ylabel(\"Time needed to compute solution [s]\")\n",
    "plt.xscale('log')\n",
    "plt.yscale('log')\n",
    "plt.legend()\n",
    "plt.show()"
   ]
  },
  {
   "cell_type": "raw",
   "id": "6e520acf-0f34-42f1-a885-61df5af9e5d4",
   "metadata": {},
   "source": [
    "\n",
    "Zadanie F\n"
   ]
  },
  {
   "cell_type": "markdown",
   "id": "ee980cf1-fa3c-4390-84e8-dc17ecb18587",
   "metadata": {},
   "source": []
  },
  {
   "cell_type": "raw",
   "id": "4d901799-3a2b-44eb-8d87-d3c348492f33",
   "metadata": {},
   "source": [
    "Wnioski z wykonania poprzednich podpunktów:\n",
    "\n",
    "Iteracyjne metody rozwiązywania układów równań liniowych pozwalają na szybsze ich rozwiązanie niż bezpośrednie metody. W tym projekcie implementowałem metody Jacobiego oraz Gaussa-Seidla, które w dużej skali nie wykazały większych różnic w czasie, jaki był potrzebny na wykonanie obliczeń. Może to wynikać z tego, że czas jednej iteracji metody Jacobiego, która powinna być nieco szybsza, była wykonywana w mniejszym casie i różnice wyrównały się.\n",
    "Używając metod iteracyjnych trzeba jednak pamiętać o tym, że nie dla wszystkich macierzy dają one rozwiązanie. Jeżeli macierz nie spełnia wymagań, to nie osiągnie się nimi zbieżnośći. W takich sytuacjach można korzystać z wolniejszych, ale pewniejszych metod bezpośrednich."
   ]
  }
 ],
 "metadata": {
  "kernelspec": {
   "display_name": "Python 3 (ipykernel)",
   "language": "python",
   "name": "python3"
  },
  "language_info": {
   "codemirror_mode": {
    "name": "ipython",
    "version": 3
   },
   "file_extension": ".py",
   "mimetype": "text/x-python",
   "name": "python",
   "nbconvert_exporter": "python",
   "pygments_lexer": "ipython3",
   "version": "3.9.7"
  }
 },
 "nbformat": 4,
 "nbformat_minor": 5
}
